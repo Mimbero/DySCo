{
 "cells": [
  {
   "cell_type": "code",
   "execution_count": 1,
   "id": "192b9875",
   "metadata": {},
   "outputs": [
    {
     "ename": "ModuleNotFoundError",
     "evalue": "No module named 'CLS_compute_eigs_all'",
     "output_type": "error",
     "traceback": [
      "\u001b[0;31m---------------------------------------------------------------------------\u001b[0m",
      "\u001b[0;31mModuleNotFoundError\u001b[0m                       Traceback (most recent call last)",
      "Cell \u001b[0;32mIn[1], line 6\u001b[0m\n\u001b[1;32m      2\u001b[0m \u001b[38;5;28;01mfrom\u001b[39;00m \u001b[38;5;21;01mscipy\u001b[39;00m\u001b[38;5;21;01m.\u001b[39;00m\u001b[38;5;21;01mio\u001b[39;00m \u001b[38;5;28;01mimport\u001b[39;00m loadmat\n\u001b[1;32m      3\u001b[0m \u001b[38;5;28;01mimport\u001b[39;00m \u001b[38;5;21;01mnibabel\u001b[39;00m \u001b[38;5;28;01mas\u001b[39;00m \u001b[38;5;21;01mnb\u001b[39;00m\n\u001b[0;32m----> 6\u001b[0m \u001b[38;5;28;01mfrom\u001b[39;00m \u001b[38;5;21;01mCLS_compute_eigs_all\u001b[39;00m \u001b[38;5;28;01mimport\u001b[39;00m Compute_Eigs\n\u001b[1;32m      7\u001b[0m \u001b[38;5;28;01mfrom\u001b[39;00m \u001b[38;5;21;01mCLS_dysco_distance\u001b[39;00m \u001b[38;5;28;01mimport\u001b[39;00m Dysco_distance\n\u001b[1;32m      8\u001b[0m \u001b[38;5;28;01mfrom\u001b[39;00m \u001b[38;5;21;01mCLS_dysco_reconf\u001b[39;00m \u001b[38;5;28;01mimport\u001b[39;00m Dysco_reconf_distance\n",
      "\u001b[0;31mModuleNotFoundError\u001b[0m: No module named 'CLS_compute_eigs_all'"
     ]
    }
   ],
   "source": [
    "import numpy as np\n",
    "from scipy.io import loadmat\n",
    "import nibabel as nb\n",
    "\n",
    "\n",
    "from CLS_compute_eigs_all import Compute_Eigs\n",
    "from CLS_dysco_distance import Dysco_distance\n",
    "from CLS_dysco_reconf import Dysco_reconf_distance\n",
    "from CLS_dysco_norm import Dysco_Norm"
   ]
  },
  {
   "cell_type": "markdown",
   "id": "b41c30a0",
   "metadata": {},
   "source": [
    "# Simple DySCO Tutorial \n",
    "\n",
    "### If you want to learn how to use dysco this is the right place! This script teaches you how to run the core functions to build your dysco analysis pipeline"
   ]
  },
  {
   "cell_type": "markdown",
   "id": "86ced5fb",
   "metadata": {},
   "source": [
    "## Step 1: Load the timeseries. \n",
    "### This should be a matrix, each row is a timepoint, each column is a signal/brain area/feature. So it's TxN. \n",
    "\n",
    "### This might be the most ~annoying~ crucial part, the data preprocessing/format. Here we will use .nii format and use nibabel to load. But there are many other ways to do this. "
   ]
  },
  {
   "cell_type": "code",
   "execution_count": 3,
   "id": "019fcaf8",
   "metadata": {},
   "outputs": [
    {
     "ename": "FileNotFoundError",
     "evalue": "No such file or no access: 'Path to .nii file'",
     "output_type": "error",
     "traceback": [
      "\u001b[0;31m---------------------------------------------------------------------------\u001b[0m",
      "\u001b[0;31mFileNotFoundError\u001b[0m                         Traceback (most recent call last)",
      "File \u001b[0;32m~/anaconda3/lib/python3.11/site-packages/nibabel/loadsave.py:100\u001b[0m, in \u001b[0;36mload\u001b[0;34m(filename, **kwargs)\u001b[0m\n\u001b[1;32m     99\u001b[0m \u001b[38;5;28;01mtry\u001b[39;00m:\n\u001b[0;32m--> 100\u001b[0m     stat_result \u001b[38;5;241m=\u001b[39m os\u001b[38;5;241m.\u001b[39mstat(filename)\n\u001b[1;32m    101\u001b[0m \u001b[38;5;28;01mexcept\u001b[39;00m \u001b[38;5;167;01mOSError\u001b[39;00m:\n",
      "\u001b[0;31mFileNotFoundError\u001b[0m: [Errno 2] No such file or directory: 'Path to .nii file'",
      "\nDuring handling of the above exception, another exception occurred:\n",
      "\u001b[0;31mFileNotFoundError\u001b[0m                         Traceback (most recent call last)",
      "Cell \u001b[0;32mIn[3], line 4\u001b[0m\n\u001b[1;32m      1\u001b[0m file_path \u001b[38;5;241m=\u001b[39m \u001b[38;5;124m'\u001b[39m\u001b[38;5;124mPath to .nii file\u001b[39m\u001b[38;5;124m'\u001b[39m\n\u001b[1;32m      3\u001b[0m \u001b[38;5;66;03m# Load NIfTI file\u001b[39;00m\n\u001b[0;32m----> 4\u001b[0m cifti \u001b[38;5;241m=\u001b[39m nb\u001b[38;5;241m.\u001b[39mload(file_path)\n\u001b[1;32m      5\u001b[0m cifti_data \u001b[38;5;241m=\u001b[39m cifti\u001b[38;5;241m.\u001b[39mget_fdata(dtype\u001b[38;5;241m=\u001b[39mnp\u001b[38;5;241m.\u001b[39mfloat32)\n\u001b[1;32m      6\u001b[0m cifti_hdr \u001b[38;5;241m=\u001b[39m cifti\u001b[38;5;241m.\u001b[39mheader\n",
      "File \u001b[0;32m~/anaconda3/lib/python3.11/site-packages/nibabel/loadsave.py:102\u001b[0m, in \u001b[0;36mload\u001b[0;34m(filename, **kwargs)\u001b[0m\n\u001b[1;32m    100\u001b[0m     stat_result \u001b[38;5;241m=\u001b[39m os\u001b[38;5;241m.\u001b[39mstat(filename)\n\u001b[1;32m    101\u001b[0m \u001b[38;5;28;01mexcept\u001b[39;00m \u001b[38;5;167;01mOSError\u001b[39;00m:\n\u001b[0;32m--> 102\u001b[0m     \u001b[38;5;28;01mraise\u001b[39;00m \u001b[38;5;167;01mFileNotFoundError\u001b[39;00m(\u001b[38;5;124mf\u001b[39m\u001b[38;5;124m\"\u001b[39m\u001b[38;5;124mNo such file or no access: \u001b[39m\u001b[38;5;124m'\u001b[39m\u001b[38;5;132;01m{\u001b[39;00mfilename\u001b[38;5;132;01m}\u001b[39;00m\u001b[38;5;124m'\u001b[39m\u001b[38;5;124m\"\u001b[39m)\n\u001b[1;32m    103\u001b[0m \u001b[38;5;28;01mif\u001b[39;00m stat_result\u001b[38;5;241m.\u001b[39mst_size \u001b[38;5;241m<\u001b[39m\u001b[38;5;241m=\u001b[39m \u001b[38;5;241m0\u001b[39m:\n\u001b[1;32m    104\u001b[0m     \u001b[38;5;28;01mraise\u001b[39;00m ImageFileError(\u001b[38;5;124mf\u001b[39m\u001b[38;5;124m\"\u001b[39m\u001b[38;5;124mEmpty file: \u001b[39m\u001b[38;5;124m'\u001b[39m\u001b[38;5;132;01m{\u001b[39;00mfilename\u001b[38;5;132;01m}\u001b[39;00m\u001b[38;5;124m'\u001b[39m\u001b[38;5;124m\"\u001b[39m)\n",
      "\u001b[0;31mFileNotFoundError\u001b[0m: No such file or no access: 'Path to .nii file'"
     ]
    }
   ],
   "source": [
    "file_path = 'Path to .nii file'\n",
    "\n",
    "# Load NIfTI file\n",
    "cifti = nb.load(file_path)\n",
    "cifti_data = cifti.get_fdata(dtype=np.float32)\n",
    "cifti_hdr = cifti.header\n",
    "nifti_hdr = cifti.nifti_header\n",
    "\n",
    "axes = [cifti_hdr.get_axis(i) for i in range(cifti.ndim)]\n",
    "\n",
    "# Only using half the brain here \n",
    "left_brain = surf_data_from_cifti(cifti_data, axes[1], 'CIFTI_STRUCTURE_CORTEX_LEFT')\n",
    "# right_brain = surf_data_from_cifti(cifti_data, axes[1], 'CIFTI_STRUCTURE_CORTEX_RIGHT')\n",
    "\n",
    "brain_load = left_brain\n",
    "\n",
    "# Can filter here (based on tissue boundaries etc)\n",
    "brain_load = brain_load.T\n",
    "zero_columns = np.all(brain_load == 0, axis=0)\n",
    "filtered_array = brain_load[:, ~zero_columns]\n",
    "brain = filtered_array"
   ]
  },
  {
   "cell_type": "markdown",
   "id": "8ec46696",
   "metadata": {},
   "source": [
    "## Step 2: Run the recurrence matrix EVD\n",
    "\n",
    "### After you have selected the type of matrix (see paper) and preprocessed the data, run the recurrence matrix EVD for the specified matrix. For example, here we are running it for a sliding window correlation matrix with a window of 21 (odd numbers for symmetry). Remember that the rank (=n of non-null eigenvalues) is lower than window size (see paper). In this case, we calculate the first 10 eigenvectors as an example."
   ]
  },
  {
   "cell_type": "code",
   "execution_count": 4,
   "id": "caf3726e",
   "metadata": {},
   "outputs": [
    {
     "ename": "NameError",
     "evalue": "name 'Compute_Eigs' is not defined",
     "output_type": "error",
     "traceback": [
      "\u001b[0;31m---------------------------------------------------------------------------\u001b[0m",
      "\u001b[0;31mNameError\u001b[0m                                 Traceback (most recent call last)",
      "Cell \u001b[0;32mIn[4], line 4\u001b[0m\n\u001b[1;32m      1\u001b[0m half_window_size \u001b[38;5;241m=\u001b[39m \u001b[38;5;241m10\u001b[39m\n\u001b[1;32m      2\u001b[0m n_eigen \u001b[38;5;241m=\u001b[39m \u001b[38;5;241m10\u001b[39m\n\u001b[0;32m----> 4\u001b[0m instance \u001b[38;5;241m=\u001b[39m Compute_Eigs(brain, n_eigen, half_window_size)\n\u001b[1;32m      5\u001b[0m eigenvectors, eigenvalues \u001b[38;5;241m=\u001b[39m inst\u001b[38;5;241m.\u001b[39mcompute_eigs_cov()\n",
      "\u001b[0;31mNameError\u001b[0m: name 'Compute_Eigs' is not defined"
     ]
    }
   ],
   "source": [
    "half_window_size = 10\n",
    "n_eigen = 10\n",
    "\n",
    "instance = Compute_Eigs(brain, n_eigen, half_window_size)\n",
    "eigenvectors, eigenvalues = inst.compute_eigs_cov()\n"
   ]
  },
  {
   "cell_type": "markdown",
   "id": "331463d4",
   "metadata": {},
   "source": [
    "### Now you have eigenvectors and eigenvalues. eigenvalues is a 2D matrix, where each column corresponds to our 10 eigenvalues at each time point. eigenvectors is 3D, because it is a matrix of eigenvectors for each time point. Every column of the matrix is an eigenvector, and indeed every matrix has 10 columns."
   ]
  },
  {
   "cell_type": "markdown",
   "id": "96d08ea8",
   "metadata": {},
   "source": [
    "## Step 3: Compute DySCo measures:\n",
    "\n",
    "### Now that we have this EVD representation of our sliding-window correlation matrix, we can compute the DySCo measures.\n",
    "\n",
    "#### These are: \n",
    "1. NORM \n",
    "2. DISTANCE \n",
    "3. Reconfiguration Speed \n",
    "4. Entropy\n"
   ]
  },
  {
   "cell_type": "markdown",
   "id": "80d6b59d",
   "metadata": {},
   "source": [
    "## Norm\n",
    "\n",
    "### This is the time-varying norm, computed from eigenvalues (see paper), so at each time point you have the norm of the matrix. Let us compute the norm 2, but there are different norms available (see paper)."
   ]
  },
  {
   "cell_type": "code",
   "execution_count": 5,
   "id": "8764a9f7",
   "metadata": {},
   "outputs": [
    {
     "ename": "NameError",
     "evalue": "name 'Dysco_Norm' is not defined",
     "output_type": "error",
     "traceback": [
      "\u001b[0;31m---------------------------------------------------------------------------\u001b[0m",
      "\u001b[0;31mNameError\u001b[0m                                 Traceback (most recent call last)",
      "Cell \u001b[0;32mIn[5], line 2\u001b[0m\n\u001b[1;32m      1\u001b[0m \u001b[38;5;66;03m# norm1_inst = Dysco_Norm(1)\u001b[39;00m\n\u001b[0;32m----> 2\u001b[0m norm2_inst \u001b[38;5;241m=\u001b[39m Dysco_Norm(\u001b[38;5;241m2\u001b[39m)\n\u001b[1;32m      3\u001b[0m \u001b[38;5;66;03m# norminf_inst = Dysco_Norm(np.inf)\u001b[39;00m\n\u001b[1;32m      5\u001b[0m norm2 \u001b[38;5;241m=\u001b[39m norm2_inst\u001b[38;5;241m.\u001b[39mnorm(eigval)\n",
      "\u001b[0;31mNameError\u001b[0m: name 'Dysco_Norm' is not defined"
     ]
    }
   ],
   "source": [
    "# norm1_inst = Dysco_Norm(1)\n",
    "norm2_inst = Dysco_Norm(2)\n",
    "# norminf_inst = Dysco_Norm(np.inf)\n",
    "\n",
    "norm2 = norm2_inst.norm(eigval)\n"
   ]
  },
  {
   "cell_type": "code",
   "execution_count": 6,
   "id": "acfd73b3",
   "metadata": {},
   "outputs": [
    {
     "ename": "NameError",
     "evalue": "name 'norm' is not defined",
     "output_type": "error",
     "traceback": [
      "\u001b[0;31m---------------------------------------------------------------------------\u001b[0m",
      "\u001b[0;31mNameError\u001b[0m                                 Traceback (most recent call last)",
      "Cell \u001b[0;32mIn[6], line 3\u001b[0m\n\u001b[1;32m      1\u001b[0m \u001b[38;5;66;03m# a1. From norm we can compute a derived measure, which is spectral\u001b[39;00m\n\u001b[1;32m      2\u001b[0m \u001b[38;5;66;03m# metastability - see paper.\u001b[39;00m\n\u001b[0;32m----> 3\u001b[0m metastability \u001b[38;5;241m=\u001b[39m np\u001b[38;5;241m.\u001b[39mstd(norm)\n",
      "\u001b[0;31mNameError\u001b[0m: name 'norm' is not defined"
     ]
    }
   ],
   "source": [
    "# a1. From norm we can compute a derived measure, which is spectral\n",
    "# metastability - see paper.\n",
    "metastability = np.std(norm)"
   ]
  },
  {
   "cell_type": "markdown",
   "id": "d7b514a2",
   "metadata": {},
   "source": [
    "## Distance\n",
    "\n",
    "### We can compute the distance between dynamic matrices at 2 different time points. For example, let us use the distance 2 to compute the Functional Connectivity Dynamics (FCD) matrix."
   ]
  },
  {
   "cell_type": "code",
   "execution_count": 7,
   "id": "1dcf9824",
   "metadata": {},
   "outputs": [
    {
     "ename": "NameError",
     "evalue": "name 'eigenvectors' is not defined",
     "output_type": "error",
     "traceback": [
      "\u001b[0;31m---------------------------------------------------------------------------\u001b[0m",
      "\u001b[0;31mNameError\u001b[0m                                 Traceback (most recent call last)",
      "Cell \u001b[0;32mIn[7], line 1\u001b[0m\n\u001b[0;32m----> 1\u001b[0m T \u001b[38;5;241m=\u001b[39m eigenvectors\u001b[38;5;241m.\u001b[39mshape[\u001b[38;5;241m0\u001b[39m]\n\u001b[1;32m      2\u001b[0m FCD \u001b[38;5;241m=\u001b[39m np\u001b[38;5;241m.\u001b[39mzeros((T, T))\n\u001b[1;32m      4\u001b[0m eigs_inst \u001b[38;5;241m=\u001b[39m Dysco_distance(\u001b[38;5;241m2\u001b[39m)\n",
      "\u001b[0;31mNameError\u001b[0m: name 'eigenvectors' is not defined"
     ]
    }
   ],
   "source": [
    "T = eigenvectors.shape[0]\n",
    "FCD = np.zeros((T, T))\n",
    "\n",
    "eigs_inst = Dysco_distance(2)\n",
    "\n",
    "for i in range(T):\n",
    "    for j in range(i + 1, T):\n",
    "        fcd_ij = eigs_inst.dysco_distance(eigenvectors[i, :, :], eigenvectors[j, :, :])\n",
    "        fcd[i, j] = fcd_ij\n",
    "        fcd[j, i] = fcd_ij"
   ]
  },
  {
   "cell_type": "markdown",
   "id": "60be9f1d",
   "metadata": {},
   "source": [
    "## Reconfiguration speed\n",
    "\n",
    "### is just the distance between the matrix at time t and the matrix at time t-lag, so if we already have the FCD matrix, the reconfiguration speed will be just derived from that: (here we suppose lag = 5)"
   ]
  },
  {
   "cell_type": "code",
   "execution_count": 8,
   "id": "ed966f8c",
   "metadata": {},
   "outputs": [
    {
     "ename": "NameError",
     "evalue": "name 'T' is not defined",
     "output_type": "error",
     "traceback": [
      "\u001b[0;31m---------------------------------------------------------------------------\u001b[0m",
      "\u001b[0;31mNameError\u001b[0m                                 Traceback (most recent call last)",
      "Cell \u001b[0;32mIn[8], line 2\u001b[0m\n\u001b[1;32m      1\u001b[0m lag \u001b[38;5;241m=\u001b[39m \u001b[38;5;241m5\u001b[39m\n\u001b[0;32m----> 2\u001b[0m speed \u001b[38;5;241m=\u001b[39m np\u001b[38;5;241m.\u001b[39mzeros(T \u001b[38;5;241m-\u001b[39m lag)\n\u001b[1;32m      3\u001b[0m \u001b[38;5;28;01mfor\u001b[39;00m i \u001b[38;5;129;01min\u001b[39;00m \u001b[38;5;28mrange\u001b[39m(T \u001b[38;5;241m-\u001b[39m lag):\n\u001b[1;32m      4\u001b[0m     speed[i] \u001b[38;5;241m=\u001b[39m fcd[i, i \u001b[38;5;241m+\u001b[39m lag]\n",
      "\u001b[0;31mNameError\u001b[0m: name 'T' is not defined"
     ]
    }
   ],
   "source": [
    "lag = 5\n",
    "speed = np.zeros(T - lag)\n",
    "for i in range(T - lag):\n",
    "    speed[i] = fcd[i, i + lag]\n",
    "    "
   ]
  },
  {
   "cell_type": "markdown",
   "id": "c9c8ab08",
   "metadata": {},
   "source": [
    "## Entropy\n",
    "\n",
    "### For Von Neumann Entropy, you just need the eigenvalues (like for the norm)."
   ]
  },
  {
   "cell_type": "code",
   "execution_count": null,
   "id": "10006ee2",
   "metadata": {},
   "outputs": [],
   "source": [
    "                      \n",
    "entropy = eigenvalues / np.tile(np.sum(eigenvalues, axis=0), (n_eigen, 1))\n",
    "entropy = -np.sum(np.log(entropy) * entropy, axis=0)\n"
   ]
  }
 ],
 "metadata": {
  "kernelspec": {
   "display_name": "Python 3 (ipykernel)",
   "language": "python",
   "name": "python3"
  },
  "language_info": {
   "codemirror_mode": {
    "name": "ipython",
    "version": 3
   },
   "file_extension": ".py",
   "mimetype": "text/x-python",
   "name": "python",
   "nbconvert_exporter": "python",
   "pygments_lexer": "ipython3",
   "version": "3.11.6"
  }
 },
 "nbformat": 4,
 "nbformat_minor": 5
}
